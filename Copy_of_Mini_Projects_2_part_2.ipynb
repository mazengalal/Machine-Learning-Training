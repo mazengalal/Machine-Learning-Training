{
  "nbformat": 4,
  "nbformat_minor": 0,
  "metadata": {
    "colab": {
      "name": "Copy of Mini_Projects_2/ part 2.ipynb",
      "provenance": [],
      "include_colab_link": true
    },
    "kernelspec": {
      "name": "python3",
      "display_name": "Python 3"
    }
  },
  "cells": [
    {
      "cell_type": "markdown",
      "metadata": {
        "id": "view-in-github",
        "colab_type": "text"
      },
      "source": [
        "<a href=\"https://colab.research.google.com/github/mazengalal/Machine-Learning-Training/blob/main/Copy_of_Mini_Projects_2_part_2.ipynb\" target=\"_parent\"><img src=\"https://colab.research.google.com/assets/colab-badge.svg\" alt=\"Open In Colab\"/></a>"
      ]
    },
    {
      "cell_type": "markdown",
      "metadata": {
        "id": "c2sSEq3uSurn"
      },
      "source": [
        "# Files and Exceptions"
      ]
    },
    {
      "cell_type": "markdown",
      "metadata": {
        "id": "qw2XyRs-TWIF"
      },
      "source": [
        "**8. Sum of Numbers** <br>\n",
        "Assume that a file containing a series of integers is named numbers.txt and exists on the computer’s disk. Write a program that reads all of the numbers stored in the file and calculates their total.\n"
      ]
    },
    {
      "cell_type": "code",
      "metadata": {
        "id": "92EStR9KSu8N",
        "colab": {
          "base_uri": "https://localhost:8080/"
        },
        "outputId": "adce001b-d23c-4968-dbc4-f20ca8514067"
      },
      "source": [
        "#Create a void function.\n",
        "def main():\n",
        "  #Import random module.\n",
        "  import random\n",
        "  #Open a file to write. \n",
        "  content = open('numbers.txt', 'w')\n",
        "  #Write the numbers.\n",
        "  for written_lines in range(1, 51):\n",
        "    if written_lines < 50:\n",
        "      new_num = content.write(' ' + str(random.randrange(100)) + '\\n')\n",
        "    else:\n",
        "      new_num = content.write(' ' + str(random.randrange(100)))\n",
        "  #Close the file.\n",
        "  content.close()\n",
        "  print('There are', written_lines,\\\n",
        "        'random numbers had written in the \"numbers.txt\"' + \\\n",
        "        ' file as the following:' + '\\n')\n",
        "  #Call the function named sum.\n",
        "  total = sum(written_lines)\n",
        "  print('\\n' + 'The total of these numbers =', total)\n",
        "\n",
        "#Create a function named sum to return a value.\n",
        "def sum(written_lines):\n",
        "  #Initialize an accumulator.\n",
        "  summation = 0\n",
        "  #Open the file to read.\n",
        "  data = open('numbers.txt', 'r')\n",
        "  #Read the numbers.\n",
        "  for read_lines in range(1, 51):\n",
        "    new_val = int(data.readline())\n",
        "    if read_lines < 10:\n",
        "      print('num_0', read_lines, ' = ', new_val, sep='')\n",
        "    else:\n",
        "      print('num_', read_lines, ' = ', new_val, sep='')\n",
        "    #Calculate the total of numbers.\n",
        "    summation += new_val\n",
        "  #Close the file.\n",
        "  data.close()\n",
        "  return summation\n",
        "\n",
        "#Call the main function.   \n",
        "main()"
      ],
      "execution_count": 54,
      "outputs": [
        {
          "output_type": "stream",
          "text": [
            "There are 50 random numbers had written in the \"numbers.txt\" file as the following:\n",
            "\n",
            "num_01 = 46\n",
            "num_02 = 44\n",
            "num_03 = 9\n",
            "num_04 = 79\n",
            "num_05 = 1\n",
            "num_06 = 76\n",
            "num_07 = 21\n",
            "num_08 = 45\n",
            "num_09 = 5\n",
            "num_10 = 67\n",
            "num_11 = 79\n",
            "num_12 = 5\n",
            "num_13 = 75\n",
            "num_14 = 50\n",
            "num_15 = 67\n",
            "num_16 = 60\n",
            "num_17 = 54\n",
            "num_18 = 56\n",
            "num_19 = 7\n",
            "num_20 = 49\n",
            "num_21 = 45\n",
            "num_22 = 47\n",
            "num_23 = 55\n",
            "num_24 = 64\n",
            "num_25 = 85\n",
            "num_26 = 15\n",
            "num_27 = 55\n",
            "num_28 = 79\n",
            "num_29 = 28\n",
            "num_30 = 94\n",
            "num_31 = 56\n",
            "num_32 = 47\n",
            "num_33 = 18\n",
            "num_34 = 83\n",
            "num_35 = 81\n",
            "num_36 = 25\n",
            "num_37 = 27\n",
            "num_38 = 88\n",
            "num_39 = 85\n",
            "num_40 = 93\n",
            "num_41 = 80\n",
            "num_42 = 18\n",
            "num_43 = 96\n",
            "num_44 = 14\n",
            "num_45 = 78\n",
            "num_46 = 62\n",
            "num_47 = 69\n",
            "num_48 = 12\n",
            "num_49 = 48\n",
            "num_50 = 44\n",
            "\n",
            "The total of these numbers = 2586\n"
          ],
          "name": "stdout"
        }
      ]
    },
    {
      "cell_type": "markdown",
      "metadata": {
        "id": "gW0mWcdDVgK4"
      },
      "source": [
        "**9. Average of Numbers** <br>\n",
        "Assume that a file containing a series of integers is named numbers.txt and exists on the computer’s disk. Write a program that calculates the average of all the numbers stored in\n",
        "the file"
      ]
    },
    {
      "cell_type": "code",
      "metadata": {
        "id": "3-DZx-vnSvCe",
        "colab": {
          "base_uri": "https://localhost:8080/"
        },
        "outputId": "cb52d3ea-1d7a-408d-ca6e-2e31dc7b3424"
      },
      "source": [
        "#Create a void function.\n",
        "def main():\n",
        "  #Initialize an accumulator.\n",
        "  summation = 0\n",
        "  #Open the file to read.\n",
        "  data = open('numbers.txt', 'r')\n",
        "  #Read the numbers.\n",
        "  for read_lines in range(1, 51):\n",
        "    new_val = int(data.readline())\n",
        "    #Calculate the total of numbers.\n",
        "    summation += new_val\n",
        "  #Close the file.\n",
        "  data.close()\n",
        "  #Display the average of numbers.\n",
        "  print('The average of the numbers in the file '+ \\\n",
        "        'named \"numbers.txt\" = \"the summation of them\" '+ \\\n",
        "        'divided by \"the number of them\"'+ \\\n",
        "        '\\n\\t\\t\\t\\t\\t\\t\\t   =', summation, '/', read_lines, '=', \\\n",
        "        format(summation / read_lines, '.1f'))\n",
        "#Call the main function.\n",
        "main()"
      ],
      "execution_count": 55,
      "outputs": [
        {
          "output_type": "stream",
          "text": [
            "The average of the numbers in the file named \"numbers.txt\" = \"the summation of them\" divided by \"the number of them\"\n",
            "\t\t\t\t\t\t\t   = 2586 / 50 = 51.7\n"
          ],
          "name": "stdout"
        }
      ]
    },
    {
      "cell_type": "markdown",
      "metadata": {
        "id": "vjchCYETVwPx"
      },
      "source": [
        "**10. Random Number File Writer**<br>\n",
        "Write a program that writes a series of random numbers to a file. Each random number should be in the range of 1 \n",
        "through 500. The application should let the user specify how\n",
        "many random numbers the file will hold.\n"
      ]
    },
    {
      "cell_type": "code",
      "metadata": {
        "id": "DCyba_BZVxLF",
        "colab": {
          "base_uri": "https://localhost:8080/"
        },
        "outputId": "99d97027-4e05-4b09-9cbb-e871382bf7b9"
      },
      "source": [
        "#Create a void function.\n",
        "def main():\n",
        "  #Import the random module.\n",
        "  import random\n",
        "  #Get the number of values in the file.  \n",
        "  carried_num = int(input('Please, let me know the number of ' + \\\n",
        "                          'the random values that you need to' + \\\n",
        "                          ' hold in the file named' + \\\n",
        "                          ' \"random_numbers.txt\": '))\n",
        "  #Open a file to write. \n",
        "  content = open('random_numbers.txt', 'w')\n",
        "  #Write the numbers.\n",
        "  for written_lines in range(carried_num):\n",
        "    if written_lines < carried_num - 1:\n",
        "      new_num = content.write(' ' + str(random.randrange(1, 501)) + '\\n')\n",
        "    else:\n",
        "      new_num = content.write(' ' + str(random.randrange(1, 501)))\n",
        "  #Close the file.\n",
        "  content.close()\n",
        "  print('\\n' + 'Now, there are', written_lines + 1,\\\n",
        "        'random numbers had written in the file named' + \\\n",
        "        ' \"random_numbers.txt\".')\n",
        "#Call the main function.\n",
        "main()"
      ],
      "execution_count": 22,
      "outputs": [
        {
          "output_type": "stream",
          "text": [
            "Please, let me know the number of the random values that you need to hold in the file named \"random_numbers.txt\": 100\n",
            "\n",
            "Now, there are 100 random numbers had written in the file named \"random_numbers.txt\".\n"
          ],
          "name": "stdout"
        }
      ]
    },
    {
      "cell_type": "markdown",
      "metadata": {
        "id": "p75ZKqbXWMdY"
      },
      "source": [
        "**11.  Exception Handing** <br>\n",
        "Modify the program that you wrote for Exercise 9 so it handles the following exceptions: <br>\n",
        "* It should handle any IOError exceptions that are raised when the file is opened and data\n",
        "is read from it. <br>\n",
        "* It should handle any ValueError exceptions that are raised when the items that are read from the file are converted to a number."
      ]
    },
    {
      "cell_type": "code",
      "metadata": {
        "id": "22SOHQbrVxRE"
      },
      "source": [
        "#Create a void function.\n",
        "def main():\n",
        "  #Open a file to write. \n",
        "  content = open('modified_numbers.txt', 'w')\n",
        "  #Write the numbers.\n",
        "  for written_lines in range(1, 51):\n",
        "    if written_lines < 10:\n",
        "      content.write('num_0' + str(written_lines) + '\\n')\n",
        "    elif 10 <= written_lines < 50:\n",
        "      content.write('num_' + str(written_lines) + '\\n')\n",
        "    else:\n",
        "      content.write('num_' + str(written_lines))\n",
        "  #Close the file.\n",
        "  content.close()\n",
        "#Call the main function.\n",
        "main()"
      ],
      "execution_count": 47,
      "outputs": []
    },
    {
      "cell_type": "code",
      "metadata": {
        "colab": {
          "base_uri": "https://localhost:8080/"
        },
        "id": "LV7JCpjzzQme",
        "outputId": "0349dd01-de04-4b3f-b971-99f5bd15bfd7"
      },
      "source": [
        "#Create a void function.\n",
        "def main():\n",
        "  try:\n",
        "    #Get the file name.\n",
        "    file_name = input('What is the name of the needed file?' + '\\n')\n",
        "    #Initialize an accumulator.\n",
        "    summation = 0\n",
        "    #Open the file to read.\n",
        "    data = open(file_name, 'r')\n",
        "    #Read the numbers.\n",
        "    for read_lines in range(1, 51):\n",
        "      new_val = int(data.readline())\n",
        "      #Calculate the total of numbers.\n",
        "      summation += new_val\n",
        "    #Close the file.\n",
        "    data.close()\n",
        "\n",
        "  except Exception as err:\n",
        "    print(err)\n",
        "\n",
        "  except ValueError as err:\n",
        "    print(err)\n",
        "\n",
        "  else:\n",
        "    #Display the average of numbers.\n",
        "    print('\\n' + 'The average of the numbers in the file' +\\\n",
        "          ' named \\\"' + file_name + '\\\" = \"the summation of them\" ' +\\\n",
        "          'divided by \"the number of them\" ' +\\\n",
        "          '\\n\\t\\t\\t\\t\\t\\t\\t   =', summation, '/', read_lines, '=',\\\n",
        "          format(summation / read_lines, '.1f'))\n",
        "#Call the main function.\n",
        "main()"
      ],
      "execution_count": 52,
      "outputs": [
        {
          "output_type": "stream",
          "text": [
            "What is the name of the needed file?\n",
            "modified_numbers.txt\n",
            "invalid literal for int() with base 10: 'num_01\\n'\n"
          ],
          "name": "stdout"
        }
      ]
    }
  ]
}